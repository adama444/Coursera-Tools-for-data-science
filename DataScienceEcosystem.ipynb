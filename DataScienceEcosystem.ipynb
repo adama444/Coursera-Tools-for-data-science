{
 "cells": [
  {
   "cell_type": "markdown",
   "id": "f0fe2f38-9f8c-49e1-ac4d-d478c78281dd",
   "metadata": {},
   "source": [
    "# Data Science Tools and Ecosystem"
   ]
  },
  {
   "cell_type": "markdown",
   "id": "567aacc2-d3ef-4351-aed2-0803d28de155",
   "metadata": {},
   "source": [
    "In this notebook, Data Science Tools and Ecosystem are summarized."
   ]
  },
  {
   "cell_type": "markdown",
   "id": "b9053a1f-50ea-4223-af66-d0a370268b6e",
   "metadata": {},
   "source": [
    "Some of the popular languages that Data Scientists use are:\n",
    "1. Python\n",
    "2. R\n",
    "3. Scala"
   ]
  },
  {
   "cell_type": "markdown",
   "id": "b4632c07-cca9-415c-baf6-568aef1bed57",
   "metadata": {},
   "source": [
    "Some of the commonly used libraries used by Data Scientists include:\n",
    "1. Pandas\n",
    "2. Numpy\n",
    "3. Matplotlib"
   ]
  },
  {
   "cell_type": "markdown",
   "id": "3ed21437-dce2-4b28-8fa8-990a32d76f40",
   "metadata": {},
   "source": [
    "| Data Science Tools |\n",
    "| ------------------ |\n",
    "| Rstudio            |\n",
    "| Jupyter Notebook   |\n",
    "| Github             |"
   ]
  },
  {
   "cell_type": "markdown",
   "id": "c356c122-3067-41fd-85e9-360e5f3b419f",
   "metadata": {},
   "source": [
    "### Below are a few examples of evaluating arithmetic expressions in Python"
   ]
  },
  {
   "cell_type": "code",
   "execution_count": 2,
   "id": "c64ce6f3-2a3c-4a49-9809-882b948bc3e1",
   "metadata": {},
   "outputs": [
    {
     "data": {
      "text/plain": [
       "17"
      ]
     },
     "execution_count": 2,
     "metadata": {},
     "output_type": "execute_result"
    }
   ],
   "source": [
    "# This a simple arithmetic expression to mutiply then add integers\n",
    "(3*4)+5"
   ]
  },
  {
   "cell_type": "code",
   "execution_count": 3,
   "id": "d6a8c679-1f56-4579-93a4-21a472fd335e",
   "metadata": {},
   "outputs": [
    {
     "data": {
      "text/plain": [
       "3.3333333333333335"
      ]
     },
     "execution_count": 3,
     "metadata": {},
     "output_type": "execute_result"
    }
   ],
   "source": [
    "# This will convert 200 minutes to hours by diving by 60\n",
    "200 / 60"
   ]
  },
  {
   "cell_type": "markdown",
   "id": "09965600-8d50-4ec6-b805-639c2c90fe4b",
   "metadata": {},
   "source": [
    "**Objectives:**\n",
    "- List popular languages for Data Science\n",
    "- List common used libraries by Data Scientists\n",
    "- List some popular Data Science tools\n",
    "- Create table, ordered and unordered lists in Markdown"
   ]
  },
  {
   "cell_type": "markdown",
   "id": "06983e3d-d8a2-4f8e-8f5e-9a45e965a2fa",
   "metadata": {},
   "source": [
    "## Author\n",
    "Adama SAMAKE"
   ]
  }
 ],
 "metadata": {
  "kernelspec": {
   "display_name": "venv",
   "language": "python",
   "name": "venv"
  },
  "language_info": {
   "codemirror_mode": {
    "name": "ipython",
    "version": 3
   },
   "file_extension": ".py",
   "mimetype": "text/x-python",
   "name": "python",
   "nbconvert_exporter": "python",
   "pygments_lexer": "ipython3",
   "version": "3.11.6"
  }
 },
 "nbformat": 4,
 "nbformat_minor": 5
}
